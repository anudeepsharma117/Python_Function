{
  "nbformat": 4,
  "nbformat_minor": 0,
  "metadata": {
    "colab": {
      "provenance": []
    },
    "kernelspec": {
      "name": "python3",
      "display_name": "Python 3"
    },
    "language_info": {
      "name": "python"
    }
  },
  "cells": [
    {
      "cell_type": "markdown",
      "source": [
        "# ** Theory Questions:**\n",
        "\n"
      ],
      "metadata": {
        "id": "_6nESgtkBo8G"
      }
    },
    {
      "cell_type": "markdown",
      "source": [
        "1. What is the difference between a function and a method in Python?"
      ],
      "metadata": {
        "id": "PAaXIM-C4BNf"
      }
    },
    {
      "cell_type": "markdown",
      "source": [
        "\n",
        "\n",
        "*   Function is a block of code that performs a specific task and is defined using the def keyword.\n",
        "\n",
        "\n",
        "*   Method is a function that belongs to an object (usually a class instance).\n",
        "\n"
      ],
      "metadata": {
        "id": "vftvk9fN47fc"
      }
    },
    {
      "cell_type": "code",
      "source": [
        "def greet():  # function\n",
        "    print(\"Hello\")\n",
        "\n",
        "name = \"Aman\"\n",
        "print(name.upper())  # method\n"
      ],
      "metadata": {
        "colab": {
          "base_uri": "https://localhost:8080/"
        },
        "id": "TmF_Pq1042xQ",
        "outputId": "f0a8da35-f754-4073-90ea-8be0fdd92f5d"
      },
      "execution_count": null,
      "outputs": [
        {
          "output_type": "stream",
          "name": "stdout",
          "text": [
            "AMAN\n"
          ]
        }
      ]
    },
    {
      "cell_type": "markdown",
      "source": [
        "2. Explain the concept of function arguments and parameters in Python.\n",
        "\n",
        "*   Parameters are variables listed in the function definition.\n",
        "*   Arguments are actual values passed to the function.\n",
        "\n"
      ],
      "metadata": {
        "id": "Fwoaf3um4C9D"
      }
    },
    {
      "cell_type": "code",
      "source": [
        "def add(a, b):  # a and b are parameters\n",
        "    return a + b\n",
        "\n",
        "add(5, 10)  # 5 and 10 are arguments\n"
      ],
      "metadata": {
        "colab": {
          "base_uri": "https://localhost:8080/"
        },
        "id": "3tziti0b5lHC",
        "outputId": "01165051-5a29-44c9-fe6e-9b7add9f3cb5"
      },
      "execution_count": null,
      "outputs": [
        {
          "output_type": "execute_result",
          "data": {
            "text/plain": [
              "15"
            ]
          },
          "metadata": {},
          "execution_count": 2
        }
      ]
    },
    {
      "cell_type": "markdown",
      "source": [
        "3. What are the different ways to define and call a function in Python?\n",
        "\n",
        "*  Defining using def or lambda\n",
        "\n",
        "*   Calling by using the function name followed by parenthese\n",
        "\n"
      ],
      "metadata": {
        "id": "GfYDcTr94DZx"
      }
    },
    {
      "cell_type": "code",
      "source": [
        "# Using def\n",
        "def square(x):\n",
        "    return x * x\n",
        "print(square(4))\n",
        "\n",
        "# Using lambda\n",
        "square = lambda x: x * x\n",
        "print(square(4))\n"
      ],
      "metadata": {
        "colab": {
          "base_uri": "https://localhost:8080/"
        },
        "id": "tPaMnFVK5zrP",
        "outputId": "b2543efd-2294-43f8-ab8f-1cab19916ab1"
      },
      "execution_count": null,
      "outputs": [
        {
          "output_type": "stream",
          "name": "stdout",
          "text": [
            "16\n",
            "16\n"
          ]
        }
      ]
    },
    {
      "cell_type": "markdown",
      "source": [
        "4. What is the purpose of the return statement in a Python function?\n",
        "\n",
        "*   It sends the result back to the caller and ends the function."
      ],
      "metadata": {
        "id": "P7wiBrWS4Di7"
      }
    },
    {
      "cell_type": "code",
      "source": [
        "def add(a, b):\n",
        "    return a + b\n",
        "\n",
        "result = add(3, 7)\n",
        "print(result)"
      ],
      "metadata": {
        "colab": {
          "base_uri": "https://localhost:8080/"
        },
        "id": "YOghArSu6AVZ",
        "outputId": "37ea80fe-ca85-4ed2-e97e-c17b9bf55c28"
      },
      "execution_count": null,
      "outputs": [
        {
          "output_type": "stream",
          "name": "stdout",
          "text": [
            "10\n"
          ]
        }
      ]
    },
    {
      "cell_type": "markdown",
      "source": [
        "5. What are iterators in Python and how do they differ from iterables?\n",
        "\n",
        "*   Iterable: Can return an iterator (e.g., list, string).\n",
        "*  Iterator: Has __next__() and __iter__() methods.\n",
        "\n"
      ],
      "metadata": {
        "id": "S8voFNpT4Dmi"
      }
    },
    {
      "cell_type": "code",
      "source": [
        "lst = [1, 2, 3]  # iterable\n",
        "it = iter(lst)   # iterator\n",
        "print(next(it))  # 1\n"
      ],
      "metadata": {
        "colab": {
          "base_uri": "https://localhost:8080/"
        },
        "id": "_oKuhwz36PWY",
        "outputId": "f3184415-c302-4c5d-cd46-b8df21c41587"
      },
      "execution_count": null,
      "outputs": [
        {
          "output_type": "stream",
          "name": "stdout",
          "text": [
            "1\n"
          ]
        }
      ]
    },
    {
      "cell_type": "markdown",
      "source": [
        "6. Explain the concept of generators in Python and how they are defined.\n",
        "\n",
        "*  Generators are iterators that yield values one at a time using the yield keyword.\n",
        "\n"
      ],
      "metadata": {
        "id": "np5629tw4Dp3"
      }
    },
    {
      "cell_type": "code",
      "source": [
        "def count_up_to(n):\n",
        "    i = 1\n",
        "    while i <= n:\n",
        "        yield i\n",
        "        i += 1\n",
        "\n",
        "for num in count_up_to(3):\n",
        "    print(num)"
      ],
      "metadata": {
        "colab": {
          "base_uri": "https://localhost:8080/"
        },
        "id": "O9-BWeaO6ZNB",
        "outputId": "42a51eb3-d528-4730-b84d-36918fea05bb"
      },
      "execution_count": null,
      "outputs": [
        {
          "output_type": "stream",
          "name": "stdout",
          "text": [
            "1\n",
            "2\n",
            "3\n"
          ]
        }
      ]
    },
    {
      "cell_type": "markdown",
      "source": [
        "7. What are the advantages of using generators over regular functions?\n",
        "\n",
        "*  Memory Efficient: Don't store all values in memory.\n",
        "\n",
        "\n",
        "*  Lazy Evaluation: Generate values only when needed.\n",
        "\n"
      ],
      "metadata": {
        "id": "BLtjQHRX4Bpn"
      }
    },
    {
      "cell_type": "code",
      "source": [
        "def gen_nums():\n",
        "    for i in range(1000000):\n",
        "        yield i\n"
      ],
      "metadata": {
        "id": "5BM9Uhka6meP"
      },
      "execution_count": null,
      "outputs": []
    },
    {
      "cell_type": "markdown",
      "source": [
        "8. What is a lambda function in Python and when is it typically used?\n",
        "\n",
        "*   Anonymous function defined using lambda.\n",
        "*   Used in one-liners or with functions like map(), filter(), etc."
      ],
      "metadata": {
        "id": "eKBjVeif6e98"
      }
    },
    {
      "cell_type": "code",
      "source": [
        "square = lambda x: x ** 2\n",
        "print(square(5))\n"
      ],
      "metadata": {
        "colab": {
          "base_uri": "https://localhost:8080/"
        },
        "id": "c4RKcL9m663p",
        "outputId": "0f70eaeb-28eb-408a-9856-0b5272754aa5"
      },
      "execution_count": null,
      "outputs": [
        {
          "output_type": "stream",
          "name": "stdout",
          "text": [
            "25\n"
          ]
        }
      ]
    },
    {
      "cell_type": "markdown",
      "source": [
        "9. Explain the purpose and usage of the map() function in Python.\n",
        "\n",
        "*   Applies a function to each item in an iterable."
      ],
      "metadata": {
        "id": "Jj58Hxey6fPD"
      }
    },
    {
      "cell_type": "code",
      "source": [
        "nums = [1, 2, 3, 4]\n",
        "squared = list(map(lambda x: x ** 2, nums))\n",
        "print(squared)\n"
      ],
      "metadata": {
        "colab": {
          "base_uri": "https://localhost:8080/"
        },
        "id": "VZxAn-N-7Fa5",
        "outputId": "e1c92d92-a662-4226-ca3f-00a206cfd984"
      },
      "execution_count": null,
      "outputs": [
        {
          "output_type": "stream",
          "name": "stdout",
          "text": [
            "[1, 4, 9, 16]\n"
          ]
        }
      ]
    },
    {
      "cell_type": "markdown",
      "source": [
        "10. What is the difference between map(), reduce(), and filter() functions in Python?\n",
        "\n",
        "| Function   | Purpose                                     | Example                                     |\n",
        "| ---------- | ------------------------------------------- | ------------------------------------------- |\n",
        "| `map()`    | Applies function to all elements            | `map(lambda x: x*2, [1,2,3])` → `[2,4,6]`   |\n",
        "| `filter()` | Filters elements based on condition         | `filter(lambda x: x%2==0, [1,2,3])` → `[2]` |\n",
        "| `reduce()` | Reduces to single value (needs `functools`) | `reduce(lambda x, y: x+y, [1,2,3])` → `6`   |\n"
      ],
      "metadata": {
        "id": "VyaIqN1a6fdA"
      }
    },
    {
      "cell_type": "markdown",
      "source": [
        "11. . Using pen & Paper write the internal mechanism for sum operation using  reduce function on this given\n",
        "\n",
        "list:[47,11,42,13];\n",
        "\n",
        "   To perform the sum operation using the reduce() function, we simulate how the function works internally. The reduce() function from the functools module applies a binary function cumulatively to the elements of a list."
      ],
      "metadata": {
        "id": "6nYON24I6fk3"
      }
    },
    {
      "cell_type": "code",
      "source": [
        "reduce(function, iterable)\n"
      ],
      "metadata": {
        "id": "yYzELZlb-itf"
      },
      "execution_count": null,
      "outputs": []
    },
    {
      "cell_type": "code",
      "source": [
        "reduce(lambda x, y: x + y, [47, 11, 42, 13])"
      ],
      "metadata": {
        "id": "udtYZxrB-sqm"
      },
      "execution_count": null,
      "outputs": []
    },
    {
      "cell_type": "markdown",
      "source": [
        "Step-by-Step Simulation on Paper\n",
        "\n",
        "  Initial list: [47, 11, 42, 13]\n",
        "\n",
        "    First call:\n",
        "\n",
        "    x = 47, y = 11\n",
        "    result = x + y = 47 + 11 = 58\n",
        "\n",
        "    Second call:\n",
        "\n",
        "    x = result from previous = 58, y = 42\n",
        "    result = 58 + 42 = 100\n",
        "\n",
        "    Third call:\n",
        "\n",
        "    x = result from previous = 100, y = 13\n",
        "    result = 100 + 13 = 113"
      ],
      "metadata": {
        "id": "NtekG5FkA_Wv"
      }
    },
    {
      "cell_type": "code",
      "source": [
        "reduce(lambda x, y: x + y, [47, 11, 42, 13]) = 113"
      ],
      "metadata": {
        "id": "2YkhATp3-smQ"
      },
      "execution_count": null,
      "outputs": []
    },
    {
      "cell_type": "markdown",
      "source": [
        "# **Practical Questions:**\n",
        "\n",
        "---\n",
        "\n"
      ],
      "metadata": {
        "id": "pr4k36OtB-Ij"
      }
    },
    {
      "cell_type": "markdown",
      "source": [
        "1. Write a Python function that takes a list of numbers as input and returns the sum of all even numbers in the list."
      ],
      "metadata": {
        "id": "vUNAGOrsB-qs"
      }
    },
    {
      "cell_type": "code",
      "source": [
        "def sum_even_numbers(numbers):\n",
        "    return sum(num for num in numbers if num % 2 == 0)\n"
      ],
      "metadata": {
        "id": "kzMD7d1xEyUY"
      },
      "execution_count": null,
      "outputs": []
    },
    {
      "cell_type": "code",
      "source": [
        "sum_even_numbers([1, 2, 3, 4, 5, 6])"
      ],
      "metadata": {
        "colab": {
          "base_uri": "https://localhost:8080/"
        },
        "id": "HeZkSmGeFFDv",
        "outputId": "b5c4927e-8f64-4740-8c62-76d29d99596c"
      },
      "execution_count": null,
      "outputs": [
        {
          "output_type": "execute_result",
          "data": {
            "text/plain": [
              "12"
            ]
          },
          "metadata": {},
          "execution_count": 13
        }
      ]
    },
    {
      "cell_type": "markdown",
      "source": [
        "2. Create a Python function that accepts a string and returns the reverse of that string."
      ],
      "metadata": {
        "id": "jNLLnczNB-39"
      }
    },
    {
      "cell_type": "code",
      "source": [
        "def reverse_string(s):\n",
        "    return s[::-1]\n",
        "\n",
        "# Example:\n",
        "print(reverse_string(\"Hello\"))"
      ],
      "metadata": {
        "colab": {
          "base_uri": "https://localhost:8080/"
        },
        "id": "MXTcZaUyFSRr",
        "outputId": "0209b378-567e-420a-c056-1248ef5890e6"
      },
      "execution_count": null,
      "outputs": [
        {
          "output_type": "stream",
          "name": "stdout",
          "text": [
            "olleH\n"
          ]
        }
      ]
    },
    {
      "cell_type": "markdown",
      "source": [
        "3. Implement a Python function that takes a list of integers and returns a new list containing the squares of each number."
      ],
      "metadata": {
        "id": "mr6n0rAVB-_J"
      }
    },
    {
      "cell_type": "code",
      "source": [
        "def square_list(numbers):\n",
        "    return [num ** 2 for num in numbers]\n",
        "\n",
        "# Example:\n",
        "print(square_list([1, 2, 3, 4]))"
      ],
      "metadata": {
        "colab": {
          "base_uri": "https://localhost:8080/"
        },
        "id": "fzFUXeSMF1V4",
        "outputId": "7c166e1d-e5ce-404f-b65b-cbe298a692ea"
      },
      "execution_count": null,
      "outputs": [
        {
          "output_type": "stream",
          "name": "stdout",
          "text": [
            "[1, 4, 9, 16]\n"
          ]
        }
      ]
    },
    {
      "cell_type": "markdown",
      "source": [
        "4. Write a Python function that checks if a given number is prime or not from 1 to 200."
      ],
      "metadata": {
        "id": "ZhiCgO75B_CR"
      }
    },
    {
      "cell_type": "code",
      "source": [
        "def is_prime(n):\n",
        "    if n < 2:\n",
        "        return False\n",
        "    for i in range(2, int(n**0.5) + 1):\n",
        "        if n % i == 0:\n",
        "            return False\n",
        "    return True\n",
        "\n",
        "# Primes from 1 to 200:\n",
        "prime_numbers = [i for i in range(1, 201) if is_prime(i)]\n",
        "print(prime_numbers)"
      ],
      "metadata": {
        "colab": {
          "base_uri": "https://localhost:8080/"
        },
        "id": "NccE7CrKF8og",
        "outputId": "10fcc4c9-829c-4908-f964-13684892c120"
      },
      "execution_count": null,
      "outputs": [
        {
          "output_type": "stream",
          "name": "stdout",
          "text": [
            "[2, 3, 5, 7, 11, 13, 17, 19, 23, 29, 31, 37, 41, 43, 47, 53, 59, 61, 67, 71, 73, 79, 83, 89, 97, 101, 103, 107, 109, 113, 127, 131, 137, 139, 149, 151, 157, 163, 167, 173, 179, 181, 191, 193, 197, 199]\n"
          ]
        }
      ]
    },
    {
      "cell_type": "markdown",
      "source": [
        "5. Create an iterator class in Python that generates the Fibonacci sequence up to a specified number of terms."
      ],
      "metadata": {
        "id": "YixCpOEDB_GM"
      }
    },
    {
      "cell_type": "code",
      "source": [
        "def fibonacci(n):\n",
        "    a, b = 0, 1\n",
        "    for _ in range(n):\n",
        "        yield a\n",
        "        a, b = b, a + b\n",
        "\n",
        "# Example usage:\n",
        "for num in fibonacci(10):\n",
        "    print(num)"
      ],
      "metadata": {
        "colab": {
          "base_uri": "https://localhost:8080/"
        },
        "id": "nIzA1YNyGCxN",
        "outputId": "e12e8b32-f98a-40e6-b9f5-ac224566483d"
      },
      "execution_count": null,
      "outputs": [
        {
          "output_type": "stream",
          "name": "stdout",
          "text": [
            "0\n",
            "1\n",
            "1\n",
            "2\n",
            "3\n",
            "5\n",
            "8\n",
            "13\n",
            "21\n",
            "34\n"
          ]
        }
      ]
    },
    {
      "cell_type": "markdown",
      "source": [
        "6. Write a generator function in Python that yields the powers of 2 up to a given exponent."
      ],
      "metadata": {
        "id": "NVcumM5YB_Ky"
      }
    },
    {
      "cell_type": "code",
      "source": [
        "def powers_of_two(max_exponent):\n",
        "    for i in range(max_exponent + 1):\n",
        "        yield 2 ** i\n",
        "\n",
        "# Example:\n",
        "print(list(powers_of_two(5)))"
      ],
      "metadata": {
        "colab": {
          "base_uri": "https://localhost:8080/"
        },
        "id": "rfZW0ZKkGtml",
        "outputId": "9af66c6d-fccb-49d4-8fb2-097ed51f4101"
      },
      "execution_count": null,
      "outputs": [
        {
          "output_type": "stream",
          "name": "stdout",
          "text": [
            "[1, 2, 4, 8, 16, 32]\n"
          ]
        }
      ]
    },
    {
      "cell_type": "markdown",
      "source": [
        "7. Implement a generator function that reads a file line by line and yields each line as a string."
      ],
      "metadata": {
        "id": "US67pMdEG3aw"
      }
    },
    {
      "cell_type": "markdown",
      "source": [
        "Assuming sample.txt contains:"
      ],
      "metadata": {
        "id": "6T6J1LQBHC8F"
      }
    },
    {
      "cell_type": "code",
      "source": [
        "Hello\n",
        "World\n",
        "Python"
      ],
      "metadata": {
        "id": "0dW11JliG6_H"
      },
      "execution_count": null,
      "outputs": []
    },
    {
      "cell_type": "code",
      "source": [
        "def read_file_lines(filename):\n",
        "    with open(filename, 'r') as file:\n",
        "        for line in file:\n",
        "            yield line.strip()\n",
        "\n",
        "# Example:\n",
        "for line in read_file_lines(\"sample.txt\"):\n",
        "    print(line)"
      ],
      "metadata": {
        "id": "L8nriZSuHrCO"
      },
      "execution_count": null,
      "outputs": []
    },
    {
      "cell_type": "code",
      "source": [
        "output :\n",
        "Hello\n",
        "World\n",
        "Python\n"
      ],
      "metadata": {
        "id": "Uh_FRRqPHtC9"
      },
      "execution_count": null,
      "outputs": []
    },
    {
      "cell_type": "markdown",
      "source": [
        "8. Use a lambda function in Python to sort a list of tuples based on the second element of each tuple."
      ],
      "metadata": {
        "id": "nkOPiSObG3BZ"
      }
    },
    {
      "cell_type": "code",
      "source": [
        "tuples = [(1, 3), (2, 1), (4, 2)]\n",
        "sorted_tuples = sorted(tuples, key=lambda x: x[1])\n",
        "print(sorted_tuples)"
      ],
      "metadata": {
        "colab": {
          "base_uri": "https://localhost:8080/"
        },
        "id": "OO3kAHXFIWRn",
        "outputId": "8e533b2f-7c5a-4043-eed5-d43e30f2cf30"
      },
      "execution_count": null,
      "outputs": [
        {
          "output_type": "stream",
          "name": "stdout",
          "text": [
            "[(2, 1), (4, 2), (1, 3)]\n"
          ]
        }
      ]
    },
    {
      "cell_type": "markdown",
      "source": [
        "9. Write a Python program that uses map() to convert a list of temperatures from Celsius to Fahrenheit."
      ],
      "metadata": {
        "id": "Zkx5s5t1Igb6"
      }
    },
    {
      "cell_type": "code",
      "source": [
        "celsius = [0, 20, 30, 40]\n",
        "fahrenheit = list(map(lambda c: (c * 9/5) + 32, celsius))\n",
        "print(fahrenheit)"
      ],
      "metadata": {
        "colab": {
          "base_uri": "https://localhost:8080/"
        },
        "id": "2OGO4I6BIc-3",
        "outputId": "e723a55c-8998-417f-8b26-a2efeb37081c"
      },
      "execution_count": null,
      "outputs": [
        {
          "output_type": "stream",
          "name": "stdout",
          "text": [
            "[32.0, 68.0, 86.0, 104.0]\n"
          ]
        }
      ]
    },
    {
      "cell_type": "markdown",
      "source": [
        "10. Create a Python program that uses filter() to remove all the vowels from a given string."
      ],
      "metadata": {
        "id": "G7RCUALEI7Px"
      }
    },
    {
      "cell_type": "code",
      "source": [
        "def remove_vowels(s):\n",
        "    vowels = 'aeiouAEIOU'\n",
        "    result = filter(lambda ch: ch not in vowels, s)\n",
        "    for ch in result:\n",
        "        print(ch, end='')\n",
        "\n",
        "# Example\n",
        "text = \"Hello World\"\n",
        "remove_vowels(text)"
      ],
      "metadata": {
        "colab": {
          "base_uri": "https://localhost:8080/"
        },
        "id": "z1WBEpXwI5VL",
        "outputId": "d64ece07-74bb-40a6-b093-fafe2a81b56d"
      },
      "execution_count": null,
      "outputs": [
        {
          "output_type": "stream",
          "name": "stdout",
          "text": [
            "Hll Wrld"
          ]
        }
      ]
    },
    {
      "cell_type": "markdown",
      "source": [
        "11) Imagine an accounting routine used in a book shop. It works on a list with sublists, which look like this:\n",
        "\n",
        "\n"
      ],
      "metadata": {
        "id": "cVpwlyisMObD"
      }
    },
    {
      "cell_type": "code",
      "source": [
        "from tabulate import tabulate\n",
        "\n",
        "# Table data\n",
        "data = [\n",
        "    [\"34587\", \"Learning Python, Mark Lutz\", 4, 40.95],\n",
        "    [\"98762\", \"Programming Python, Mark Lutz\", 5, 56.80],\n",
        "    [\"77226\", \"Head First Python, Paul Barry\", 3, 32.95],\n",
        "    [\"88112\", \"Einführung in Python3, Bernd Klein\", 3, 24.99]\n",
        "]\n",
        "\n",
        "# Column headers\n",
        "headers = [\"Order Number\", \"Book Title and Author\", \"Quantity\", \"Price per Item\"]\n",
        "\n",
        "# Print the table\n",
        "print(tabulate(data, headers=headers, tablefmt=\"grid\"))"
      ],
      "metadata": {
        "colab": {
          "base_uri": "https://localhost:8080/"
        },
        "id": "JCy_omiCPvck",
        "outputId": "97e83fd9-a0b8-47fa-9ad7-e79d43091046"
      },
      "execution_count": null,
      "outputs": [
        {
          "output_type": "stream",
          "name": "stdout",
          "text": [
            "+----------------+------------------------------------+------------+------------------+\n",
            "|   Order Number | Book Title and Author              |   Quantity |   Price per Item |\n",
            "+================+====================================+============+==================+\n",
            "|          34587 | Learning Python, Mark Lutz         |          4 |            40.95 |\n",
            "+----------------+------------------------------------+------------+------------------+\n",
            "|          98762 | Programming Python, Mark Lutz      |          5 |            56.8  |\n",
            "+----------------+------------------------------------+------------+------------------+\n",
            "|          77226 | Head First Python, Paul Barry      |          3 |            32.95 |\n",
            "+----------------+------------------------------------+------------+------------------+\n",
            "|          88112 | Einführung in Python3, Bernd Klein |          3 |            24.99 |\n",
            "+----------------+------------------------------------+------------+------------------+\n"
          ]
        }
      ]
    },
    {
      "cell_type": "markdown",
      "source": [
        "Write a Python program, which returns a list with 2-tuples. Each tuple consists of the order number and the\n",
        "product of the price per item and the quantity. The product should be increased by 10,- € if the value of the\n",
        "order is smaller than 100,00 €.\n",
        "\n",
        "Write a Python program using lambda and map."
      ],
      "metadata": {
        "id": "A0qkW-5sQIZr"
      }
    },
    {
      "cell_type": "code",
      "source": [
        "# Data from the bookshop\n",
        "orders = [\n",
        "    [34587, \"Learning Python, Mark Lutz\", 4, 40.95],\n",
        "    [98762, \"Programming Python, Mark Lutz\", 5, 56.80],\n",
        "    [77226, \"Head First Python, Paul Barry\", 3, 32.95],\n",
        "    [88112, \"Einführung in Python3, Bernd Klein\", 3, 24.99]\n",
        "]\n",
        "\n",
        "# Function to compute the final price (with the €10 rule)\n",
        "result = list(map(lambda order: (order[0], round(order[2] * order[3] + (10 if order[2] * order[3] < 100 else 0), 2)), orders))\n",
        "\n",
        "# Output the result\n",
        "print(result)"
      ],
      "metadata": {
        "colab": {
          "base_uri": "https://localhost:8080/"
        },
        "id": "ivgGGdJ8JA4e",
        "outputId": "76e8b213-a008-4edf-8951-76cef4f91135"
      },
      "execution_count": null,
      "outputs": [
        {
          "output_type": "stream",
          "name": "stdout",
          "text": [
            "[(34587, 163.8), (98762, 284.0), (77226, 108.85), (88112, 84.97)]\n"
          ]
        }
      ]
    },
    {
      "cell_type": "code",
      "source": [],
      "metadata": {
        "id": "sb4b9QlNO4VH"
      },
      "execution_count": null,
      "outputs": []
    }
  ]
}